{
 "cells": [
  {
   "cell_type": "markdown",
   "metadata": {},
   "source": [
    "<h1 align=center> FIA45001 Data Science for Finance Final Project Outline</h1>\n",
    "\n",
    "<h6 align=right>20215174 JunPyoPark</h6>"
   ]
  },
  {
   "cell_type": "markdown",
   "metadata": {
    "toc": true
   },
   "source": [
    "<h1>Table of Contents<span class=\"tocSkip\"></span></h1>\n",
    "<div class=\"toc\"><ul class=\"toc-item\"><li><span><a href=\"#-FIA45001-Data-Science-for-Finance-Final-Project-Outline\" data-toc-modified-id=\"-FIA45001-Data-Science-for-Finance-Final-Project-Outline-1\"> FIA45001 Data Science for Finance Final Project Outline</a></span><ul class=\"toc-item\"><li><span><a href=\"#Process-Data\" data-toc-modified-id=\"Process-Data-1.1\">Process Data</a></span><ul class=\"toc-item\"><li><span><a href=\"#Read-pkl\" data-toc-modified-id=\"Read-pkl-1.1.1\">Read pkl</a></span></li></ul></li><li><span><a href=\"#Naive-Strategies\" data-toc-modified-id=\"Naive-Strategies-1.2\">Naive Strategies</a></span></li><li><span><a href=\"#Momentum-Strategies\" data-toc-modified-id=\"Momentum-Strategies-1.3\">Momentum Strategies</a></span></li><li><span><a href=\"#LSTM-model\" data-toc-modified-id=\"LSTM-model-1.4\">LSTM model</a></span><ul class=\"toc-item\"><li><span><a href=\"#Process-Dataset\" data-toc-modified-id=\"Process-Dataset-1.4.1\">Process Dataset</a></span></li><li><span><a href=\"#Load-Model\" data-toc-modified-id=\"Load-Model-1.4.2\">Load Model</a></span></li><li><span><a href=\"#Check-LSTM-Model-Performance\" data-toc-modified-id=\"Check-LSTM-Model-Performance-1.4.3\">Check LSTM Model Performance</a></span></li></ul></li></ul></li></ul></div>"
   ]
  },
  {
   "cell_type": "markdown",
   "metadata": {},
   "source": [
    "## Process Data"
   ]
  },
  {
   "cell_type": "code",
   "execution_count": 362,
   "metadata": {},
   "outputs": [],
   "source": [
    "import torch\n",
    "import torch.nn as nn\n",
    "from torch.autograd import Variable"
   ]
  },
  {
   "cell_type": "code",
   "execution_count": 363,
   "metadata": {},
   "outputs": [],
   "source": [
    "import pandas as pd\n",
    "import numpy as np\n",
    "from dateutil.relativedelta import relativedelta\n",
    "import warnings\n",
    "import matplotlib.pyplot as plt\n",
    "from utils import *\n",
    "warnings.filterwarnings('ignore')"
   ]
  },
  {
   "cell_type": "markdown",
   "metadata": {},
   "source": [
    "### Read pkl"
   ]
  },
  {
   "cell_type": "code",
   "execution_count": 3,
   "metadata": {},
   "outputs": [],
   "source": [
    "crsp_returns = pd.read_pickle('crsp_returns.pkl')"
   ]
  },
  {
   "cell_type": "code",
   "execution_count": 4,
   "metadata": {},
   "outputs": [],
   "source": [
    "crsp_returns = crsp_returns.sort_index()['1975':]"
   ]
  },
  {
   "cell_type": "code",
   "execution_count": 6,
   "metadata": {},
   "outputs": [],
   "source": [
    "returns = crsp_returns['RET']\n",
    "crsp_returns['RET'] = returns.apply(convert_to_float)"
   ]
  },
  {
   "cell_type": "code",
   "execution_count": 7,
   "metadata": {},
   "outputs": [],
   "source": [
    "crsp_returns = crsp_returns.dropna()"
   ]
  },
  {
   "cell_type": "code",
   "execution_count": 8,
   "metadata": {},
   "outputs": [],
   "source": [
    "mark_cap = pd.read_pickle('mark_cap.pkl').dropna()"
   ]
  },
  {
   "cell_type": "code",
   "execution_count": 9,
   "metadata": {},
   "outputs": [],
   "source": [
    "# Create Market calendar for datetime reference\n",
    "calendar = pd.Series(list(set(crsp_returns.index)))\n",
    "calendar = calendar.sort_values()\n",
    "calendar = calendar.where(calendar > '1975').dropna() # start at 1975-01-01"
   ]
  },
  {
   "cell_type": "markdown",
   "metadata": {},
   "source": [
    "## Naive Strategies"
   ]
  },
  {
   "cell_type": "markdown",
   "metadata": {},
   "source": [
    "```python\n",
    "# 전 종목 equal-weighted\n",
    "# 상폐 종목은 -1 의 return을 가짐\n",
    "ret_eq = []\n",
    "ret_value = []\n",
    "for t_months in range(12, len(calendar)): # 전체 기간\n",
    "# for t_months in range(12, 20): # 특정기간\n",
    "    dt = calendar.iloc[t_months] # 1976-01-31\n",
    "    st = calendar.iloc[t_months-12]\n",
    "    et = calendar.iloc[t_months-1] \n",
    "    \n",
    "    perm_list, past_returns, current_markcap = filter_perm(st, et) # 현재 시점 기준 과거 1년 정보\n",
    "    \n",
    "    # 전 종목 equal-weighted method\n",
    "    eq_return = get_port_return(perm_list, weighting_method='Equal_Weighted')\n",
    "    ret_eq.append(eq_return)\n",
    "    \n",
    "    val_return = get_port_return(perm_list, weighting_method='Value_Weighted')\n",
    "    ret_value.append(val_return)\n",
    "```"
   ]
  },
  {
   "cell_type": "markdown",
   "metadata": {},
   "source": [
    "## Momentum Strategies\n",
    "* PR1YR\n",
    "* Acceleration"
   ]
  },
  {
   "cell_type": "code",
   "execution_count": 432,
   "metadata": {},
   "outputs": [],
   "source": [
    "def get_pr1yr_return(returns_12m):\n",
    "    # cumulative version\n",
    "    \"\"\"\n",
    "    지난 12개월 return을 받아\n",
    "    최근 1개월 제외 1년 return(PR1YR) 계산\n",
    "    \"\"\"\n",
    "    cummulative_return = (returns_12m[:-1]['RET'] + 1).cumprod() - 1\n",
    "    return cummulative_return[-1] # PR1YR"
   ]
  },
  {
   "cell_type": "code",
   "execution_count": 407,
   "metadata": {},
   "outputs": [],
   "source": [
    "def get_acc_momentum(returns_12m):\n",
    "    \"\"\"\n",
    "    simple weighting sceme 사용하여\n",
    "    acceleration momentum 계산\n",
    "    \"\"\"\n",
    "    weighting_scheme = np.array([1] * 6 + [-1] * 6)\n",
    "    return (returns_12m['RET'] * weighting_scheme).sum()"
   ]
  },
  {
   "cell_type": "code",
   "execution_count": null,
   "metadata": {},
   "outputs": [],
   "source": [
    "pr1yr_returns = {}\n",
    "# acc_returns = {}\n",
    "\n",
    "for t_months in range(12, len(calendar)): # 전체 기간 (2010년 이후)\n",
    "#for t_months in range(420, len(calendar)): # 테스트 기간 (2010년 이후)\n",
    "# for t_months in range(420, 421): # 테스트 기간 (2010년 이후)\n",
    "    \n",
    "    dt = calendar.iloc[t_months] # 1976-01-31\n",
    "    st = calendar.iloc[t_months-12]\n",
    "    et = calendar.iloc[t_months-1] \n",
    "    \n",
    "    perm_list, past_returns, current_markcap = filter_perm(st, et) # 현재 시점 기준 과거 1년 정보\n",
    "\n",
    "    pr1yr_momentum = pd.Series(index=perm_list)\n",
    "    acc_momentum = pd.Series(index=perm_list)\n",
    "\n",
    "    for perm in perm_list:\n",
    "        returns_12m = filtr(past_returns, col='PERMNO', isin=[perm]) # dt 기준 지난 1년의 수익률 정보\n",
    "        pr1yr_momentum.loc[perm] = get_pr1yr_return(returns_12m) # calc pr1ry return\n",
    "        acc_momentum.loc[perm] = get_acc_momentum(returns_12m) # calc acc momentum\n",
    "\n",
    "        \n",
    "    pr1yr_momentum = pr1yr_momentum.sort_values(ascending=False)\n",
    "    acc_momentum = acc_momentum.sort_values(ascending=False)\n",
    "\n",
    "    \n",
    "    q = np.zeros(10) # 여기에 q1 ~ q10 저장\n",
    "    for i in range(10):\n",
    "          q[i] = calc_decile_return(pr1yr_momentum,(i+1))\n",
    "    pr1yr_returns[dt] = q\n",
    "    \n",
    "    \n",
    "    q = np.zeros(10) # 여기에 q1 ~ q10 저장\n",
    "    for i in range(10):\n",
    "          q[i] = calc_decile_return(acc_momentum,(i+1)\n",
    "    acc_returns[dt] = q\n",
    "                                    \n",
    "    # print(dt)"
   ]
  },
  {
   "cell_type": "code",
   "execution_count": 202,
   "metadata": {},
   "outputs": [],
   "source": [
    "pr1yr_returns = pd.DataFrame(pr1yr_returns).T\n",
    "pr1yr_returns.columns = ['Q%d'%i for i in range(1,11)]\n",
    "\n",
    "acc_returns = pd.DataFrame(acc_returns).T\n",
    "acc_returns.columns = ['Q%d'%i for i in range(1,11)]\n",
    "\n",
    "# save results\n",
    "# acc_returns.to_pickle('acc_return.pkl')\n",
    "# pr1yr_returns.to_pickle('pr1yr_return.pkl')"
   ]
  },
  {
   "cell_type": "markdown",
   "metadata": {},
   "source": [
    "## LSTM model"
   ]
  },
  {
   "cell_type": "code",
   "execution_count": 30,
   "metadata": {},
   "outputs": [
    {
     "data": {
      "text/plain": [
       "0.7555555555555555"
      ]
     },
     "execution_count": 30,
     "metadata": {},
     "output_type": "execute_result"
    }
   ],
   "source": [
    "# Before 2010 -> Train, After 2010 -> Test\n",
    "# 75% training 후 2010년 이후부터 test set으로 사용\n",
    "\n",
    "len(results.loc[:'2009']) / len(results)"
   ]
  },
  {
   "cell_type": "code",
   "execution_count": 31,
   "metadata": {},
   "outputs": [
    {
     "data": {
      "text/plain": [
       "Timestamp('1976-01-30 00:00:00')"
      ]
     },
     "execution_count": 31,
     "metadata": {},
     "output_type": "execute_result"
    }
   ],
   "source": [
    "calendar.iloc[12]"
   ]
  },
  {
   "cell_type": "code",
   "execution_count": 32,
   "metadata": {},
   "outputs": [
    {
     "data": {
      "text/plain": [
       "Timestamp('2009-12-31 00:00:00')"
      ]
     },
     "execution_count": 32,
     "metadata": {},
     "output_type": "execute_result"
    }
   ],
   "source": [
    "calendar.iloc[419]"
   ]
  },
  {
   "cell_type": "markdown",
   "metadata": {},
   "source": [
    "### Process Dataset"
   ]
  },
  {
   "cell_type": "markdown",
   "metadata": {},
   "source": [
    "```python\n",
    "trainX = []\n",
    "trainY = []\n",
    "\n",
    "for t_months in range(12, 420): # training_period\n",
    "# for t_months in range(12, 13): \n",
    "    dt = calendar.iloc[t_months] # 1976-01-31\n",
    "    st = calendar.iloc[t_months-12]\n",
    "    et = calendar.iloc[t_months-1] \n",
    "    \n",
    "    perm_list, past_returns, current_markcap = filter_perm(st, et) # 현재 시점 기준 과거 1년 정보\n",
    "\n",
    "    for perm in perm_list:\n",
    "    # for perm in perm_list[0:1]: # for specific perm\n",
    "        returns_12m = filtr(past_returns, col='PERMNO', isin=[perm]) # dt 기준 지난 1년의 수익률 정보\n",
    "        _x = returns_12m['RET'].values\n",
    "        trainX.append(_x)\n",
    "        \n",
    "        _y = filtr(crsp_returns.loc[dt],col='PERMNO',isin=[perm])['RET'].values # next month return\n",
    "        if _y: # Non-empty\n",
    "            trainY.append(_y)\n",
    "        else: # empty\n",
    "            _y = np.array([-1]) # 상장폐지\n",
    "            trainY.append(_y)\n",
    "```"
   ]
  },
  {
   "cell_type": "code",
   "execution_count": 33,
   "metadata": {},
   "outputs": [
    {
     "name": "stdout",
     "output_type": "stream",
     "text": [
      "cuda:0\n"
     ]
    }
   ],
   "source": [
    "device = torch.device(\"cuda:0\" if torch.cuda.is_available() else \"cpu\")\n",
    "print(device)"
   ]
  },
  {
   "cell_type": "code",
   "execution_count": 34,
   "metadata": {},
   "outputs": [
    {
     "data": {
      "text/plain": [
       "'GeForce RTX 3080'"
      ]
     },
     "execution_count": 34,
     "metadata": {},
     "output_type": "execute_result"
    }
   ],
   "source": [
    "torch.cuda.get_device_name()"
   ]
  },
  {
   "cell_type": "markdown",
   "metadata": {},
   "source": [
    "MLP 해봤는데 잘 안되서 버림 (I tried MLP, but it didn't work so I threw it away.)"
   ]
  },
  {
   "cell_type": "markdown",
   "metadata": {},
   "source": [
    "``` python\n",
    "# Build NN\n",
    "class Net(nn.Module):\n",
    "    def __init__(self):\n",
    "        super().__init__()\n",
    "        self.flatten = nn.Flatten()\n",
    "        self.layer = nn.Sequential(\n",
    "            nn.Linear(12, 512),\n",
    "            nn.ReLU(),\n",
    "            nn.Linear(512, 256),\n",
    "            nn.ReLU(),\n",
    "            nn.Linear(256, 128),\n",
    "            nn.ReLU(),\n",
    "            nn.Linear(128, 64),\n",
    "            nn.ReLU(),\n",
    "            nn.Linear(64, 1),\n",
    "        )\n",
    "    def forward(self, x):\n",
    "        x = self.flatten(x)\n",
    "        Net_Out = self.layer(x)\n",
    "        return Net_Out\n",
    "```"
   ]
  },
  {
   "cell_type": "code",
   "execution_count": 154,
   "metadata": {},
   "outputs": [],
   "source": [
    "class LSTM(nn.Module):\n",
    "\n",
    "    def __init__(self, num_classes, input_size, hidden_size, num_layers):\n",
    "        super(LSTM, self).__init__()\n",
    "        \n",
    "        self.num_classes = num_classes\n",
    "        self.num_layers = num_layers\n",
    "        self.input_size = input_size\n",
    "        self.hidden_size = hidden_size\n",
    "        self.seq_length = seq_length\n",
    "        \n",
    "        self.lstm = nn.LSTM(input_size=input_size, hidden_size=hidden_size,\n",
    "                            num_layers=num_layers, batch_first=True)\n",
    "        \n",
    "        self.fc = nn.Linear(hidden_size, num_classes)\n",
    "        \n",
    "    def forward(self, x):\n",
    "        h_0 = Variable(torch.zeros(\n",
    "            self.num_layers, x.size(0), self.hidden_size)).to(device)\n",
    "        \n",
    "        c_0 = Variable(torch.zeros(\n",
    "            self.num_layers, x.size(0), self.hidden_size)).to(device)\n",
    "        \n",
    "        # Propagate input through LSTM\n",
    "        ula, (h_out, _) = self.lstm(x, (h_0, c_0))\n",
    "        h_out = h_out.view(-1, self.hidden_size)\n",
    "        out = self.fc(h_out)\n",
    "        \n",
    "        return out"
   ]
  },
  {
   "cell_type": "code",
   "execution_count": 155,
   "metadata": {},
   "outputs": [],
   "source": [
    "num_epochs = 1\n",
    "num_layers = 1\n",
    "learning_rate = 0.01\n",
    "hidden_size = 256\n",
    "batch_size = 256"
   ]
  },
  {
   "cell_type": "markdown",
   "metadata": {},
   "source": [
    "### Load Model"
   ]
  },
  {
   "cell_type": "markdown",
   "metadata": {},
   "source": [
    "* 2010년 이전의 데이터(1975-01 ~ 2009-12)로 학습된 모델\n",
    "* Model trained with data prior to 2010 (1975-01 to 2009-12)"
   ]
  },
  {
   "cell_type": "code",
   "execution_count": 417,
   "metadata": {},
   "outputs": [
    {
     "data": {
      "text/plain": [
       "LSTM(\n",
       "  (lstm): LSTM(1, 256, batch_first=True)\n",
       "  (fc): Linear(in_features=256, out_features=1, bias=True)\n",
       ")"
      ]
     },
     "execution_count": 417,
     "metadata": {},
     "output_type": "execute_result"
    }
   ],
   "source": [
    "lstm = LSTM(num_classes, input_size, hidden_size, num_layers).to(device)\n",
    "# lstm.load_state_dict(torch.load('lstm_model_epoch300'))\n",
    "# lstm.load_state_dict(torch.load('lstm_model_epoch100'))\n",
    "lstm.load_state_dict(torch.load('lstm_model_epoch150')) # best result\n",
    "lstm.eval()"
   ]
  },
  {
   "cell_type": "markdown",
   "metadata": {},
   "source": [
    "```python\n",
    "mlp = Net().to(device)\n",
    "mlp.load_state_dict(torch.load('mlp_model_epoch300'))\n",
    "mlp.eval()\n",
    "```"
   ]
  },
  {
   "cell_type": "code",
   "execution_count": 418,
   "metadata": {},
   "outputs": [],
   "source": [
    "def predict_model_return(model, returns_12m):\n",
    "    \"\"\"\n",
    "    학습된 lstm 모델을 통해 미래 수익률 추정\n",
    "    Estimating future returns through a trained lstm model\n",
    "    \"\"\"\n",
    "    x = returns_12m['RET'].values\n",
    "    x = (x+1).cumprod() # chagne to wealth series\n",
    "    x = x.reshape(1,len(x),1)\n",
    "    x = Variable(torch.Tensor(x)).to(device) # convert to tensor\n",
    "\n",
    "    y = float(model(x)) # predicted wealth\n",
    "\n",
    "    last_wealth = float(x[0][-1])\n",
    "    y = (y - last_wealth) / last_wealth # predicted return\n",
    "    \n",
    "    return y"
   ]
  },
  {
   "cell_type": "markdown",
   "metadata": {},
   "source": [
    "### Check LSTM Model Performance"
   ]
  },
  {
   "cell_type": "code",
   "execution_count": null,
   "metadata": {},
   "outputs": [],
   "source": [
    "test_lstm_returns = {}\n",
    "# test_mlp_returns = {}\n",
    "\n",
    "for t_months in range(12, len(calendar)): # 전체 기간 (2010년 이후)\n",
    "    \n",
    "    dt = calendar.iloc[t_months] # 1976-01-31\n",
    "    st = calendar.iloc[t_months-12]\n",
    "    et = calendar.iloc[t_months-1] \n",
    "    \n",
    "    perm_list, past_returns, current_markcap = filter_perm(st, et) # 현재 시점 기준 과거 1년 정보\n",
    "\n",
    "    predicted_lstm_return = pd.Series(index=perm_list)\n",
    "    # predicted_mlp_return = pd.Series(index=perm_list)\n",
    "\n",
    "    for perm in perm_list:\n",
    "        returns_12m = filtr(past_returns, col='PERMNO', isin=[perm]) # dt 기준 지난 1년의 수익률 정보\n",
    "        predicted_lstm_return.loc[perm] = predict_model_return(lstm, returns_12m) # 해당 기업의 수익률 추정, LSTM 모델 활용\n",
    "        # predicted_mlp_return.loc[perm] = predict_model_return(mlp, returns_12m) # 해당 기업의 수익률 추정, MLP 모델 활용\n",
    "        \n",
    "    predicted_lstm_return = predicted_lstm_return.sort_values(ascending=False)\n",
    "    # predicted_mlp_return = predicted_mlp_return.sort_values(ascending=False)\n",
    "    \n",
    "    \n",
    "    q = np.zeros(10) # 여기에 q1 ~ q10 저장\n",
    "    for i in range(10):\n",
    "          q[i] = calc_decile_return(predicted_lstm_return,(i+1))\n",
    "    test_lstm_returns[dt] = q\n",
    "    \n",
    "    \"\"\"\n",
    "    q = np.zeros(10) # 여기에 q1 ~ q10 저장\n",
    "    for i in range(10):\n",
    "          q[i] = calc_decile_return(predicted_mlp_return,(i+1))\n",
    "    test_mlp_returns[dt] = q\n",
    "    \"\"\""
   ]
  },
  {
   "cell_type": "code",
   "execution_count": 421,
   "metadata": {},
   "outputs": [],
   "source": [
    "lstm_returns = pd.DataFrame(test_lstm_returns).T\n",
    "lstm_returns.columns = ['Q%d'%i for i in range(1,11)]"
   ]
  },
  {
   "cell_type": "code",
   "execution_count": 422,
   "metadata": {},
   "outputs": [],
   "source": [
    "lstm_returns.to_pickle('lstm_return_epoch150.pkl')"
   ]
  }
 ],
 "metadata": {
  "kernelspec": {
   "display_name": "Python 3",
   "language": "python",
   "name": "python3"
  },
  "language_info": {
   "codemirror_mode": {
    "name": "ipython",
    "version": 3
   },
   "file_extension": ".py",
   "mimetype": "text/x-python",
   "name": "python",
   "nbconvert_exporter": "python",
   "pygments_lexer": "ipython3",
   "version": "3.8.3"
  },
  "toc": {
   "base_numbering": 1,
   "nav_menu": {},
   "number_sections": false,
   "sideBar": true,
   "skip_h1_title": false,
   "title_cell": "Table of Contents",
   "title_sidebar": "Contents",
   "toc_cell": true,
   "toc_position": {
    "height": "calc(100% - 180px)",
    "left": "10px",
    "top": "150px",
    "width": "550.4px"
   },
   "toc_section_display": true,
   "toc_window_display": false
  }
 },
 "nbformat": 4,
 "nbformat_minor": 4
}
